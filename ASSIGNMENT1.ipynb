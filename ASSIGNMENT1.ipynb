{
 "cells": [
  {
   "cell_type": "markdown",
   "metadata": {},
   "source": [
    "1. In the below elements which of them are values or an expression? eg:- values can be\n",
    "integer or string and expressions will be mathematical operators.\n",
    "*\n",
    "&#39;hello&#39;\n",
    "-87.8\n",
    "-\n",
    "/\n",
    "+\n",
    "6"
   ]
  },
  {
   "cell_type": "markdown",
   "metadata": {},
   "source": [
    "Answer\n",
    "*- Expression\n",
    "'hello'- Values\n",
    "-87.8 - Values\n",
    "- - Expression\n",
    "/ -Expression\n",
    "+  Expression\n",
    "6 - Values"
   ]
  },
  {
   "cell_type": "markdown",
   "metadata": {},
   "source": [
    "2. What is the difference between string and variable?"
   ]
  },
  {
   "cell_type": "markdown",
   "metadata": {},
   "source": [
    "A.String: String is a value that represents textual data and can be written within quotes \"\" such as: \"ana\", 'dad'\n",
    "\n",
    "Variable: Variables act as temporary storage locations and are represented by an alphabet or a group of alphabets. \n",
    "          Variable is something in which strings can be stored"
   ]
  },
  {
   "cell_type": "markdown",
   "metadata": {},
   "source": [
    "3. Describe three different data types."
   ]
  },
  {
   "cell_type": "markdown",
   "metadata": {},
   "source": [
    "There are three types of commonly used data types. Namely:\n",
    "    String, Integer and Float\n",
    "    String: It is a sequence of characters and the most commonly used data type that is used to store text. \n",
    "        Additionally, a string has digits and symbols, however, it is always treated as text.\n",
    "    Integer: It is the most common data type which is having numeric value\n",
    "        It is used to store numbers without a decimal component. It holds both positive and negative values (-9, 0, 907).\n",
    "    Float: It is also a numeric data but it includes numbers that have fractional component. Thus have decimal values. ex:3.488\n",
    "    "
   ]
  },
  {
   "cell_type": "markdown",
   "metadata": {},
   "source": [
    "4. What is an expression made up of? What do all expressions do?"
   ]
  },
  {
   "cell_type": "markdown",
   "metadata": {},
   "source": [
    "An expression is a combination of values, variables, operators, and calls to functions.\n",
    "Expressions need to be evaluated. In Python if you want to print an expression,\n",
    "the interpreter will first evaluate the expression and display the result.\n",
    "example(print(2*3)) result: 6"
   ]
  },
  {
   "cell_type": "markdown",
   "metadata": {},
   "source": [
    "5. This assignment statements, like spam = 10. What is the difference between an expression and a statement?"
   ]
  },
  {
   "cell_type": "markdown",
   "metadata": {},
   "source": [
    "A statement is an instruction that the Python interpreter can execute.\n",
    "For example : y=3; when you run this statement the interprets stores the value but does not evaluate anything.\n",
    "    So unlike expressions, assignment statement is not evaluated, the value is just assigned to a variable."
   ]
  },
  {
   "cell_type": "markdown",
   "metadata": {},
   "source": [
    "6. After running the following code, what does the variable bacon contain?\n",
    "bacon = 22\n",
    "bacon + 1\n"
   ]
  },
  {
   "cell_type": "markdown",
   "metadata": {},
   "source": [
    "bacon=22\n",
    "bacon+1\n",
    "although when both the statements are executed, the execution code returns 23, however if bacon is executed again, you will see\n",
    "the container still holds 22, as the addition of 1 was not stored in the bacon variable."
   ]
  },
  {
   "cell_type": "markdown",
   "metadata": {},
   "source": [
    "7. What should the values of the following two terms be?\n",
    "'spam' + 'spamspam'\n",
    "'spam' * 3\n"
   ]
  },
  {
   "cell_type": "markdown",
   "metadata": {},
   "source": [
    "a.) while - 'spam' + 'spamspam' will give value as 'spamspamspam'\n",
    "b.) 'spam' * 3 will give value as 'spamspamspam'\n",
    "Although approach is different but the answer to both is 'spamspamspam'\n"
   ]
  },
  {
   "cell_type": "markdown",
   "metadata": {},
   "source": [
    "8. Why is eggs a valid variable name while 100 is invalid?"
   ]
  },
  {
   "cell_type": "markdown",
   "metadata": {},
   "source": [
    "variables name can only be alphabets or multiple characters, it can also be alphanumeric but it has to start with an alphabet\n",
    "hence variable names could be, eggs, e, eggs1"
   ]
  },
  {
   "cell_type": "markdown",
   "metadata": {},
   "source": [
    "9. What three functions can be used to get the integer, floating-point number, or string version of a value?"
   ]
  },
  {
   "cell_type": "markdown",
   "metadata": {},
   "source": [
    "For integer we use int()\n",
    "For string we use str()\n",
    "For floating point number we use float()"
   ]
  },
  {
   "cell_type": "markdown",
   "metadata": {},
   "source": [
    "10. Why does this expression cause an error? How can you fix it?\n",
    "\n",
    "'I have eaten' + 99 + 'burritos' "
   ]
  },
  {
   "cell_type": "code",
   "execution_count": null,
   "metadata": {},
   "outputs": [],
   "source": [
    "It causes an error because we are trying to concatenate two different data types one is str and one is int\n",
    "if 99 was in the expression as \"99\", then this statement would have worked but since it didnt it will throw an error"
   ]
  }
 ],
 "metadata": {
  "kernelspec": {
   "display_name": "Python 3",
   "language": "python",
   "name": "python3"
  },
  "language_info": {
   "codemirror_mode": {
    "name": "ipython",
    "version": 3
   },
   "file_extension": ".py",
   "mimetype": "text/x-python",
   "name": "python",
   "nbconvert_exporter": "python",
   "pygments_lexer": "ipython3",
   "version": "3.7.4"
  }
 },
 "nbformat": 4,
 "nbformat_minor": 2
}
